{
 "cells": [
  {
   "cell_type": "code",
   "execution_count": 22,
   "metadata": {},
   "outputs": [],
   "source": [
    "import cv2 \n",
    "import matplotlib.pyplot as plt\n",
    "import os\n",
    "import re \n",
    "import sys\n",
    "import hashlib\n",
    "from collections import defaultdict\n",
    "\n",
    "\n",
    "\n",
    "\n"
   ]
  },
  {
   "cell_type": "markdown",
   "metadata": {},
   "source": [
    "# Change all images to jpg"
   ]
  },
  {
   "cell_type": "code",
   "execution_count": null,
   "metadata": {},
   "outputs": [],
   "source": [
    "photo_dir = os.path.join(os.getcwd(), 'photos')\n",
    "image_extensions = ('.png','.jpg','.jpeg','.webp')\n",
    "folder_paths = []\n",
    "\n",
    "for results in os.listdir(photo_dir):    \n",
    "    path = os.path.join(photo_dir,results)\n",
    "    folder_paths.append(path)\n",
    "    for filename in os.listdir(path):\n",
    "        path_filename = os.path.join(path,filename)\n",
    "        # print(path_filename)\n",
    "        if not os.path.isfile(path_filename): \n",
    "          continue\n",
    "        else:\n",
    "          fname,ext = os.path.splitext(filename)\n",
    "          if ext in image_extensions:\n",
    "            newname = path_filename.replace(ext, '.jpg')\n",
    "            output = os.rename(path_filename, newname)\n"
   ]
  },
  {
   "cell_type": "markdown",
   "metadata": {},
   "source": [
    "# Check if any images are the same"
   ]
  },
  {
   "cell_type": "code",
   "execution_count": 31,
   "metadata": {},
   "outputs": [],
   "source": [
    "def list_full_paths(directory):\n",
    "    return [os.path.join(directory, file) for file in os.listdir(directory)]\n",
    "\n",
    "\n",
    "def delete_duplicates(path, delete = True):\n",
    "    file_list = list_full_paths(path)\n",
    "    duplicates = []\n",
    "    hash_keys = dict()\n",
    "    for index, filename in  enumerate(file_list):  #listdir('.') = current directory\n",
    "        if os.path.isfile(filename):\n",
    "            with open(filename, 'rb') as f:\n",
    "                filehash = hashlib.md5(f.read()).hexdigest()\n",
    "            if filehash not in hash_keys: \n",
    "                hash_keys[filehash] = index\n",
    "            else:\n",
    "                duplicates.append((index,hash_keys[filehash]))\n",
    "                \n",
    "    if delete == True:\n",
    "      for index in duplicates:\n",
    "          os.remove(file_list[index[0]])\n",
    "\n",
    "    return duplicates\n",
    "\n",
    "duplicates=delete_duplicates(folder_paths[0])"
   ]
  },
  {
   "cell_type": "markdown",
   "metadata": {},
   "source": [
    "# Reset number index\n"
   ]
  },
  {
   "cell_type": "code",
   "execution_count": 32,
   "metadata": {},
   "outputs": [
    {
     "name": "stdout",
     "output_type": "stream",
     "text": [
      "hoverboard\n"
     ]
    }
   ],
   "source": [
    "test = \"hover___board\"\n",
    "test=re.sub('[^A-Za-z0-9]+', '', test)\n",
    "print(test)"
   ]
  },
  {
   "cell_type": "code",
   "execution_count": 36,
   "metadata": {},
   "outputs": [
    {
     "name": "stdout",
     "output_type": "stream",
     "text": [
      "hoverboard\n"
     ]
    }
   ],
   "source": [
    "def reset_file_index(folder_paths):\n",
    "    for paths in folder_paths:\n",
    "      print(os.path.basename(paths))\n",
    "      base_name = os.path.basename(paths) # search name\n",
    "      for idx,filename in enumerate(os.listdir(paths)):\n",
    "        split1 = [re.sub('[^A-Za-z0-9]+', '', words) for words in filename.split(\".\")]\n",
    "        split2=re.sub(r'\\d+', \"_\"+str(idx), split1[0])\n",
    "        suffix = '.' + split1[1]\n",
    "        new_file_path=os.path.join(paths, split2 + suffix)\n",
    "        old_file_path= os.path.join(paths,filename)        \n",
    "        os.rename(old_file_path, new_file_path)\n",
    "\n",
    "reset_file_index(folder_paths)"
   ]
  }
 ],
 "metadata": {
  "kernelspec": {
   "display_name": "Python 3.8.10 ('venv': venv)",
   "language": "python",
   "name": "python3"
  },
  "language_info": {
   "codemirror_mode": {
    "name": "ipython",
    "version": 3
   },
   "file_extension": ".py",
   "mimetype": "text/x-python",
   "name": "python",
   "nbconvert_exporter": "python",
   "pygments_lexer": "ipython3",
   "version": "3.8.10"
  },
  "orig_nbformat": 4,
  "vscode": {
   "interpreter": {
    "hash": "ee63e8ee921680f63a19af5a4b6b515f80ba1d21a7ac7fad7a7a953bb6bb6c12"
   }
  }
 },
 "nbformat": 4,
 "nbformat_minor": 2
}
